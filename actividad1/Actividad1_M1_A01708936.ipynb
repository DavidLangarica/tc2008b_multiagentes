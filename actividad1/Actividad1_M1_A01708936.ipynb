{
 "cells": [
  {
   "cell_type": "markdown",
   "metadata": {},
   "source": [
    "# M1. Actividad\n",
    "\n",
    "Presenta: David René Lagarica Hernández | A01708936\n",
    "<!-- new line -->\n",
    "12 de noviembre de 2023"
   ]
  },
  {
   "cell_type": "markdown",
   "metadata": {},
   "source": [
    "## Problema\n",
    "\n",
    "Se necesita desarrollar una simulación de robots de limpieza reactivos en un entorno controlado. El entorno es una habitación bidimensional, donde un número definido de agentes de limpieza operan bajo un conjunto de reglas establecidas. \n",
    "<!--  -->\n",
    "Al iniciar la simulación, un porcentaje de las celdas de la habitación están sucias y distribuidas aleatoriamente. Los agentes comienzan desde la celda [1,1] y en cada unidad de tiempo, deben decidir si limpiar la celda actual si está sucia, o moverse aleatoriamente a una de las celdas adyacentes si está limpia. El movimiento está restringido a las celdas vecinas, y si un movimiento deseado es imposible, el agente permanece estático. \n",
    "<!--  -->\n",
    "La simulación debe ejecutarse hasta alcanzar un límite de tiempo predefinido. Se deben considerar dos escenarios de prueba: el primero con un solo agente y el segundo con dos agentes. En ambos casos, el tamaño de la habitación debe ser de 100x100 celdas y 90% de esas celdas se encuentran sucias."
   ]
  },
  {
   "cell_type": "markdown",
   "metadata": {},
   "source": [
    "## Solución"
   ]
  },
  {
   "cell_type": "code",
   "execution_count": null,
   "metadata": {},
   "outputs": [],
   "source": [
    "from mesa import Agent, Model \n",
    "from mesa.space import MultiGrid\n",
    "from mesa.time import RandomActivation\n",
    "from mesa.datacollection import DataCollector\n",
    "\n",
    "import matplotlib.pyplot as plt\n",
    "import numpy as np"
   ]
  },
  {
   "cell_type": "code",
   "execution_count": null,
   "metadata": {},
   "outputs": [],
   "source": [
    "class VacuumAgent(Agent):\n",
    "    \"\"\"\n",
    "    Constructor for VacuumAgent class.\n",
    "    \n",
    "    Args:\n",
    "        unique_id: Unique identifier for the agent.\n",
    "        model: Reference to the model in which the agent is instantiated.\n",
    "    \"\"\"\n",
    "    def __init__(self, id, model):\n",
    "        super().__init__(id, model)\n",
    "\n",
    "    \"\"\"\n",
    "    The move method is called by the scheduler in order to move the agent.\n",
    "    The agent will move to a random cell in its neighborhood.\n",
    "    \"\"\"\n",
    "    def move(self):\n",
    "        neighborhood = self.model.grid.get_neighborhood(self.pos, moore=True, include_center=False)\n",
    "        dirtyCells = [cell for cell in neighborhood if self.model.isDirty(cell)]\n",
    "        validPositions = [position for position in neighborhood if self.model.grid.is_cell_empty(position) or position in dirtyCells]\n",
    "\n",
    "        if validPositions:\n",
    "            newPosition = self.random.choice(validPositions)\n",
    "            self.model.grid.move_agent(self, newPosition)\n",
    "        else:\n",
    "            pass\n",
    "\n",
    "    \"\"\"\n",
    "    The clean method is called by the scheduler in order to clean the cell\n",
    "    in which the agent is located if it is dirty\n",
    "    \"\"\"\n",
    "    def clean(self):\n",
    "        if self.model.isDirty(self.pos):\n",
    "            self.model.cleanCell(self.pos)\n",
    "    \n",
    "    \"\"\"\n",
    "    The step method is called by the scheduler in order to execute the\n",
    "    agent's actions.\n",
    "    \"\"\"\n",
    "    def step(self):\n",
    "        self.clean()\n",
    "        self.move()"
   ]
  },
  {
   "cell_type": "code",
   "execution_count": null,
   "metadata": {},
   "outputs": [],
   "source": [
    "\"\"\"\n",
    "The getGrid function is used to get the grid of the model for plotting.\n",
    "\n",
    "Returns:\n",
    "    grid: A matrix with the same dimensions as the model's grid. Each cell\n",
    "          contains a 1 if it is dirty and a 0 if it is clean.\n",
    "\"\"\"\n",
    "def getGrid(model):\n",
    "    grid = np.zeros((model.grid.width, model.grid.height))\n",
    "    for (content, (x, y)) in model.grid.coord_iter():\n",
    "        if model.isDirty((x, y)):\n",
    "            grid[x][y] = 1 \n",
    "        else:\n",
    "            grid[x][y] = 0\n",
    "    return grid\n",
    "\n",
    "\"\"\"\n",
    "The calculate_dirtiness function is used to calculate the total dirtiness\n",
    "\n",
    "Returns:\n",
    "    dirtiness: The total dirtiness of the model's grid.\n",
    "\"\"\"\n",
    "def calculate_dirtiness(model):\n",
    "        return np.sum(model.dirt)"
   ]
  },
  {
   "cell_type": "code",
   "execution_count": null,
   "metadata": {},
   "outputs": [],
   "source": [
    "class VacuumModel(Model):\n",
    "    \"\"\"\n",
    "    Constructor for VacuumModel class.\n",
    "\n",
    "    Args:\n",
    "        width: Width of the grid.\n",
    "        height: Height of the grid.\n",
    "        dirtiness: Percentage of cells that will be dirty at the beginning of the simulation.\n",
    "        nAgents: Number of agents in the simulation.\n",
    "    \"\"\"\n",
    "    def __init__(self, width, height, dirtiness, nAgents, dataCollectorActivated):\n",
    "        self.grid = MultiGrid(width, height, torus=False)\n",
    "        self.schedule = RandomActivation(self)\n",
    "        self.dirt = np.random.binomial(1, dirtiness, (width, height)).astype(bool)\n",
    "        self.dataCollector = DataCollector(model_reporters={'Grid': getGrid}) if dataCollectorActivated else None\n",
    "        self.dirtDataCollector = DataCollector(\n",
    "            {\"Dirtiness\": calculate_dirtiness})\n",
    "\n",
    "        for i in range (nAgents):\n",
    "            agent = VacuumAgent(i, self)\n",
    "            self.schedule.add(agent)\n",
    "            self.grid.place_agent(agent, (1,1))\n",
    "            \n",
    "    \"\"\"\n",
    "    The isDirty method is used to check if a cell is dirty.\n",
    "    \n",
    "    Returns:\n",
    "        True if the cell is dirty, False otherwise.\n",
    "    \"\"\"\n",
    "    def isDirty(self, pos):\n",
    "        return self.dirt[pos[0], pos[1]]\n",
    "    \n",
    "    \"\"\"\n",
    "    The cleanCell method is used to clean a cell.\n",
    "    \"\"\"\n",
    "    def cleanCell(self, pos):\n",
    "        self.dirt[pos[0], pos[1]] = False\n",
    "        \n",
    "    \"\"\"\n",
    "    The step method is called by the scheduler in order to execute the\n",
    "    model's actions.\n",
    "    \"\"\"\n",
    "    def step(self):\n",
    "        self.schedule.step()\n",
    "        self.dirtDataCollector.collect(self)\n",
    "        \n",
    "        if self.dataCollector is not None:\n",
    "            self.dataCollector.collect(self)\n"
   ]
  },
  {
   "cell_type": "code",
   "execution_count": null,
   "metadata": {},
   "outputs": [],
   "source": [
    "WIDTH = 100\n",
    "HEIGHT = 100\n",
    "DIRTINESS = 0.9\n",
    "N_AGENTS = 2\n",
    "MAX_GENERATIONS = 1000\n",
    "DATA_COLLECTOR_ACTIVATED = True\n",
    "\n",
    "model = VacuumModel(WIDTH, HEIGHT, DIRTINESS, N_AGENTS, DATA_COLLECTOR_ACTIVATED)\n",
    "\n",
    "for _ in range(MAX_GENERATIONS):\n",
    "    if np.sum(model.dirt) == 0:\n",
    "        break\n",
    "    model.step()\n",
    "    \n",
    "percentage = (calculate_dirtiness(model) / (WIDTH * HEIGHT)) * 100\n",
    "\n",
    "print(f'Pasos totales: {model.schedule.steps}')\n",
    "print(f'Porcentaje de celdas sucias: {round(percentage, 2)}%')"
   ]
  },
  {
   "cell_type": "code",
   "execution_count": null,
   "metadata": {},
   "outputs": [],
   "source": [
    "allDirtiness = model.dirtDataCollector.get_model_vars_dataframe()\n",
    "plt.figure(figsize=(10, 5))\n",
    "plt.plot(allDirtiness)\n",
    "plt.xlabel('Pasos')\n",
    "plt.ylabel('Cantidad de Suciedad')\n",
    "plt.title('Progreso de Limpieza')\n",
    "plt.text(allDirtiness.index[-1], allDirtiness.iloc[-1], str(allDirtiness.iloc[-1]))\n",
    "plt.show()"
   ]
  },
  {
   "cell_type": "code",
   "execution_count": null,
   "metadata": {},
   "outputs": [],
   "source": [
    "if DATA_COLLECTOR_ACTIVATED:\n",
    "    allGrid = model.dataCollector.get_model_vars_dataframe()\n",
    "    plt.figure(figsize=(7, 7))\n",
    "    plt.imshow(allGrid.iloc[-1][0], cmap=plt.cm.binary)\n",
    "    plt.axis('off')\n",
    "    plt.show()"
   ]
  }
 ],
 "metadata": {
  "kernelspec": {
   "display_name": "Python 3",
   "language": "python",
   "name": "python3"
  },
  "language_info": {
   "codemirror_mode": {
    "name": "ipython",
    "version": 3
   },
   "file_extension": ".py",
   "mimetype": "text/x-python",
   "name": "python",
   "nbconvert_exporter": "python",
   "pygments_lexer": "ipython3",
   "version": "3.10.8"
  }
 },
 "nbformat": 4,
 "nbformat_minor": 2
}
